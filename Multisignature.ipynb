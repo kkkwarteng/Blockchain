{
 "cells": [
  {
   "cell_type": "markdown",
   "id": "2b8052d3",
   "metadata": {},
   "source": [
    "# Install Bitcoin Library "
   ]
  },
  {
   "cell_type": "code",
   "execution_count": 1,
   "id": "559cf9c2",
   "metadata": {},
   "outputs": [
    {
     "name": "stdout",
     "output_type": "stream",
     "text": [
      "Requirement already satisfied: bitcoin in ./opt/anaconda3/lib/python3.9/site-packages (1.1.42)\n",
      "Note: you may need to restart the kernel to use updated packages.\n"
     ]
    }
   ],
   "source": [
    "pip install bitcoin"
   ]
  },
  {
   "cell_type": "markdown",
   "id": "4aad82eb",
   "metadata": {},
   "source": [
    "## Importing all functions and other variables from the bitcoin library."
   ]
  },
  {
   "cell_type": "code",
   "execution_count": 1,
   "id": "87a14f06",
   "metadata": {},
   "outputs": [],
   "source": [
    "from bitcoin import *"
   ]
  },
  {
   "cell_type": "markdown",
   "id": "bdc9748b",
   "metadata": {},
   "source": [
    "### Generating a random Private Key"
   ]
  },
  {
   "cell_type": "code",
   "execution_count": 2,
   "id": "5f3de77c",
   "metadata": {},
   "outputs": [
    {
     "name": "stdout",
     "output_type": "stream",
     "text": [
      "Private Key: 078b4bbe7dcbc5523c44a45d65bfda0620f52919e3255f2c0757ebf2a6317d62\n",
      "\n"
     ]
    }
   ],
   "source": [
    "my_private_key = random_key()\n",
    "print(\"Private Key: %s\\n\" % my_private_key)"
   ]
  },
  {
   "cell_type": "markdown",
   "id": "dd717a88",
   "metadata": {},
   "source": [
    "### Generating a Public Key from the Private Key"
   ]
  },
  {
   "cell_type": "code",
   "execution_count": 3,
   "id": "53514732",
   "metadata": {},
   "outputs": [
    {
     "name": "stdout",
     "output_type": "stream",
     "text": [
      "Public Key: 0432f99b74edda55380369dd0104f21af12b9fe85c26f2f371ef35224fdf142e64d0fd25cd465ae0be64e6be20b638d17cf7f3bbed4bcb2dc24abb46671244f318\n",
      "\n"
     ]
    }
   ],
   "source": [
    "my_public_key = privtopub(my_private_key)\n",
    "print(\"Public Key: %s\\n\" % my_public_key)"
   ]
  },
  {
   "cell_type": "markdown",
   "id": "ce031cc0",
   "metadata": {},
   "source": [
    "### Generating a Bitcoin Address from the Public Key"
   ]
  },
  {
   "cell_type": "code",
   "execution_count": 4,
   "id": "19c00288",
   "metadata": {},
   "outputs": [
    {
     "name": "stdout",
     "output_type": "stream",
     "text": [
      "Bitcoin Address: 1CEpKSE3iXHQJNHS5CLmdEDTwzrQjydVoG\n",
      "\n"
     ]
    }
   ],
   "source": [
    "my_address = pubtoaddr(my_public_key)\n",
    "print(\"Bitcoin Address: %s\\n\" % my_address)"
   ]
  },
  {
   "cell_type": "markdown",
   "id": "d8c6a0a7",
   "metadata": {},
   "source": [
    "### Creating four (4) random Private Keys for the owner and partners"
   ]
  },
  {
   "cell_type": "code",
   "execution_count": 5,
   "id": "0da5ae89",
   "metadata": {},
   "outputs": [],
   "source": [
    "private_key1 = random_key()\n",
    "private_key2 = random_key()\n",
    "private_key3 = random_key()\n",
    "private_key4 = random_key()"
   ]
  },
  {
   "cell_type": "markdown",
   "id": "438a0d47",
   "metadata": {},
   "source": [
    "### Generate four public keys from the four private keys"
   ]
  },
  {
   "cell_type": "code",
   "execution_count": 6,
   "id": "b873b08f",
   "metadata": {},
   "outputs": [],
   "source": [
    "public_key1 = privtopub(private_key1)\n",
    "public_key2 = privtopub(private_key2)\n",
    "public_key3 = privtopub(private_key3)\n",
    "public_key4 = privtopub(private_key4)"
   ]
  },
  {
   "cell_type": "markdown",
   "id": "064ccefc",
   "metadata": {},
   "source": [
    "### Creating a multisignature Bitcoin address using 3 out of 4 private keys "
   ]
  },
  {
   "cell_type": "code",
   "execution_count": 7,
   "id": "0aeef174",
   "metadata": {},
   "outputs": [
    {
     "name": "stdout",
     "output_type": "stream",
     "text": [
      "My Multisignature Address: 32Q2cJPKrxWvJCP2V6ApuwFVr6Lg4vegpo\n",
      "\n"
     ]
    }
   ],
   "source": [
    "my_mulit_sig = mk_multisig_script(private_key1, private_key2, private_key3,private_key4, 3, 4)\n",
    "my_mulit_address = scriptaddr(my_mulit_sig)\n",
    "print(\"My Multisignature Address: %s\\n\" % my_mulit_address)"
   ]
  },
  {
   "cell_type": "code",
   "execution_count": 9,
   "id": "aca92f2a",
   "metadata": {},
   "outputs": [],
   "source": [
    "### End of Code"
   ]
  },
  {
   "cell_type": "code",
   "execution_count": null,
   "id": "8fe2ba07",
   "metadata": {},
   "outputs": [],
   "source": []
  }
 ],
 "metadata": {
  "kernelspec": {
   "display_name": "Python 3 (ipykernel)",
   "language": "python",
   "name": "python3"
  },
  "language_info": {
   "codemirror_mode": {
    "name": "ipython",
    "version": 3
   },
   "file_extension": ".py",
   "mimetype": "text/x-python",
   "name": "python",
   "nbconvert_exporter": "python",
   "pygments_lexer": "ipython3",
   "version": "3.9.7"
  }
 },
 "nbformat": 4,
 "nbformat_minor": 5
}
